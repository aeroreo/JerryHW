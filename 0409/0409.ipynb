{
 "cells": [
  {
   "cell_type": "markdown",
   "metadata": {},
   "source": [
    "# Q1"
   ]
  },
  {
   "cell_type": "code",
   "execution_count": 40,
   "metadata": {},
   "outputs": [],
   "source": [
    "class Restaurant():\n",
    "    def describe_restaurant(self,name,ways):\n",
    "        print(\"餐廳名稱：\",name)\n",
    "        print(\"烹調方式：\",ways)    "
   ]
  },
  {
   "cell_type": "code",
   "execution_count": 41,
   "metadata": {},
   "outputs": [],
   "source": [
    "class IceCreamStand(Restaurant):\n",
    "    def __init__(self):\n",
    "        self.flavors=[\"草莓\",\"香草\"]\n",
    "        \n",
    "    def show_flavors(self):\n",
    "        for i in range(2):\n",
    "            print(\"我喜歡的口味：\",self.flavors[i])"
   ]
  },
  {
   "cell_type": "code",
   "execution_count": 42,
   "metadata": {},
   "outputs": [],
   "source": [
    "a=IceCreamStand()"
   ]
  },
  {
   "cell_type": "code",
   "execution_count": 43,
   "metadata": {},
   "outputs": [
    {
     "name": "stdout",
     "output_type": "stream",
     "text": [
      "餐廳名稱： Ariel's\n",
      "烹調方式： 佛系煮法\n",
      "我喜歡的口味： 草莓\n",
      "我喜歡的口味： 香草\n"
     ]
    }
   ],
   "source": [
    "a.describe_restaurant(\"Ariel's\",\"佛系煮法\")\n",
    "a.show_flavors()"
   ]
  },
  {
   "cell_type": "markdown",
   "metadata": {},
   "source": [
    "# Q2"
   ]
  },
  {
   "cell_type": "code",
   "execution_count": 45,
   "metadata": {},
   "outputs": [],
   "source": [
    "class A(object): \n",
    "    def go(self): \n",
    "        print (\"go A go!\") \n",
    "\n",
    "\n",
    "\n",
    "    def stop(self): \n",
    "        print (\"stop A stop!\") \n",
    "\n",
    " \n",
    "    def pause(self): \n",
    "        raise Exception(\"Not Implemented\")\n",
    "\n",
    "\n",
    "\n",
    "\n",
    "\n",
    "class B(A): \n",
    "    def go(self): \n",
    "        super(B, self).go() \n",
    "        print (\"go B go!\")\n",
    "\n",
    "\n",
    "\n",
    "class C(A): \n",
    "    def go(self): \n",
    "        super(C, self).go() \n",
    "        print (\"go C go!\")\n",
    "\n",
    "    def stop(self): \n",
    "        super(C, self).stop()\n",
    "        print (\"stop C stop!\") \n",
    "\n",
    "\n",
    "\n",
    "\n",
    "\n",
    "class D(B,C): \n",
    "    def go(self): \n",
    "        super(D, self).go() \n",
    "        print (\"go D go!\")\n",
    "\n",
    " \n",
    "    def stop(self): \n",
    "        super(D, self).stop()\n",
    "        print (\"stop D stop!\") \n",
    "\n",
    "\n",
    "    def pause(self): \n",
    "        print (\"wait D wait!\") \n",
    "\n",
    "\n",
    "\n",
    "\n",
    "\n",
    "class E(B,C):\n",
    "    pass\n",
    "\n"
   ]
  },
  {
   "cell_type": "code",
   "execution_count": 47,
   "metadata": {},
   "outputs": [],
   "source": [
    "a = A() \n",
    "b = B() \n",
    "c = C() \n",
    "d = D() \n",
    "e = E()"
   ]
  },
  {
   "cell_type": "code",
   "execution_count": 48,
   "metadata": {},
   "outputs": [
    {
     "name": "stdout",
     "output_type": "stream",
     "text": [
      "go A go!\n",
      "go A go!\n",
      "go B go!\n",
      "go A go!\n",
      "go C go!\n",
      "go A go!\n",
      "go C go!\n",
      "go B go!\n",
      "go D go!\n",
      "go A go!\n",
      "go C go!\n",
      "go B go!\n"
     ]
    }
   ],
   "source": [
    "a.go() \n",
    "b.go() \n",
    "c.go() \n",
    "d.go() \n",
    "e.go()"
   ]
  },
  {
   "cell_type": "code",
   "execution_count": 49,
   "metadata": {},
   "outputs": [
    {
     "name": "stdout",
     "output_type": "stream",
     "text": [
      "stop A stop!\n",
      "stop A stop!\n",
      "stop A stop!\n",
      "stop C stop!\n",
      "stop A stop!\n",
      "stop C stop!\n",
      "stop D stop!\n",
      "stop A stop!\n",
      "stop C stop!\n"
     ]
    }
   ],
   "source": [
    "a.stop() \n",
    "b.stop() \n",
    "c.stop() \n",
    "d.stop() \n",
    "e.stop()"
   ]
  },
  {
   "cell_type": "code",
   "execution_count": 50,
   "metadata": {},
   "outputs": [
    {
     "ename": "Exception",
     "evalue": "Not Implemented",
     "output_type": "error",
     "traceback": [
      "\u001b[0;31m---------------------------------------------------------------------------\u001b[0m",
      "\u001b[0;31mException\u001b[0m                                 Traceback (most recent call last)",
      "\u001b[0;32m<ipython-input-50-4a53cdd35a61>\u001b[0m in \u001b[0;36m<module>\u001b[0;34m()\u001b[0m\n\u001b[0;32m----> 1\u001b[0;31m \u001b[0ma\u001b[0m\u001b[0;34m.\u001b[0m\u001b[0mpause\u001b[0m\u001b[0;34m(\u001b[0m\u001b[0;34m)\u001b[0m\u001b[0;34m\u001b[0m\u001b[0m\n\u001b[0m\u001b[1;32m      2\u001b[0m \u001b[0mb\u001b[0m\u001b[0;34m.\u001b[0m\u001b[0mpause\u001b[0m\u001b[0;34m(\u001b[0m\u001b[0;34m)\u001b[0m\u001b[0;34m\u001b[0m\u001b[0m\n\u001b[1;32m      3\u001b[0m \u001b[0mc\u001b[0m\u001b[0;34m.\u001b[0m\u001b[0mpause\u001b[0m\u001b[0;34m(\u001b[0m\u001b[0;34m)\u001b[0m\u001b[0;34m\u001b[0m\u001b[0m\n\u001b[1;32m      4\u001b[0m \u001b[0md\u001b[0m\u001b[0;34m.\u001b[0m\u001b[0mpause\u001b[0m\u001b[0;34m(\u001b[0m\u001b[0;34m)\u001b[0m\u001b[0;34m\u001b[0m\u001b[0m\n\u001b[1;32m      5\u001b[0m \u001b[0me\u001b[0m\u001b[0;34m.\u001b[0m\u001b[0mpause\u001b[0m\u001b[0;34m(\u001b[0m\u001b[0;34m)\u001b[0m\u001b[0;34m\u001b[0m\u001b[0m\n",
      "\u001b[0;32m<ipython-input-45-6db16712abd2>\u001b[0m in \u001b[0;36mpause\u001b[0;34m(self)\u001b[0m\n\u001b[1;32m     10\u001b[0m \u001b[0;34m\u001b[0m\u001b[0m\n\u001b[1;32m     11\u001b[0m     \u001b[0;32mdef\u001b[0m \u001b[0mpause\u001b[0m\u001b[0;34m(\u001b[0m\u001b[0mself\u001b[0m\u001b[0;34m)\u001b[0m\u001b[0;34m:\u001b[0m\u001b[0;34m\u001b[0m\u001b[0m\n\u001b[0;32m---> 12\u001b[0;31m         \u001b[0;32mraise\u001b[0m \u001b[0mException\u001b[0m\u001b[0;34m(\u001b[0m\u001b[0;34m\"Not Implemented\"\u001b[0m\u001b[0;34m)\u001b[0m\u001b[0;34m\u001b[0m\u001b[0m\n\u001b[0m\u001b[1;32m     13\u001b[0m \u001b[0;34m\u001b[0m\u001b[0m\n\u001b[1;32m     14\u001b[0m \u001b[0;34m\u001b[0m\u001b[0m\n",
      "\u001b[0;31mException\u001b[0m: Not Implemented"
     ]
    }
   ],
   "source": [
    "a.pause() \n",
    "b.pause() \n",
    "c.pause() \n",
    "d.pause() \n",
    "e.pause()"
   ]
  },
  {
   "cell_type": "code",
   "execution_count": null,
   "metadata": {},
   "outputs": [],
   "source": []
  }
 ],
 "metadata": {
  "kernelspec": {
   "display_name": "Python 3",
   "language": "python",
   "name": "python3"
  },
  "language_info": {
   "codemirror_mode": {
    "name": "ipython",
    "version": 3
   },
   "file_extension": ".py",
   "mimetype": "text/x-python",
   "name": "python",
   "nbconvert_exporter": "python",
   "pygments_lexer": "ipython3",
   "version": "3.6.4"
  }
 },
 "nbformat": 4,
 "nbformat_minor": 2
}
