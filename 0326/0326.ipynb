{
 "cells": [
  {
   "cell_type": "markdown",
   "metadata": {},
   "source": [
    "# Q1"
   ]
  },
  {
   "cell_type": "code",
   "execution_count": 2,
   "metadata": {},
   "outputs": [
    {
     "name": "stdout",
     "output_type": "stream",
     "text": [
      "請輸入數字1234 5\n"
     ]
    },
    {
     "data": {
      "text/plain": [
       "[1334, 105]"
      ]
     },
     "execution_count": 2,
     "metadata": {},
     "output_type": "execute_result"
    }
   ],
   "source": [
    "list(map(lambda x:int(x)+100,input(\"請輸入數字,空白鍵分割\").split()))"
   ]
  },
  {
   "cell_type": "markdown",
   "metadata": {},
   "source": [
    "# Q2"
   ]
  },
  {
   "cell_type": "code",
   "execution_count": 67,
   "metadata": {},
   "outputs": [],
   "source": [
    "def mul_ints(func): \n",
    "    def new_function(*args, **kwargs): \n",
    "        sum = func(*args, **kwargs)\n",
    "        print(sum)\n",
    "        \n",
    "        mul= 1\n",
    "        for x in args:\n",
    "            mul *= x\n",
    "        \n",
    "        return mul\n",
    "    return new_function"
   ]
  },
  {
   "cell_type": "code",
   "execution_count": 68,
   "metadata": {},
   "outputs": [],
   "source": [
    "@mul_ints\n",
    "def add_ints(a,b): \n",
    "    return (a+b)"
   ]
  },
  {
   "cell_type": "code",
   "execution_count": 69,
   "metadata": {},
   "outputs": [
    {
     "name": "stdout",
     "output_type": "stream",
     "text": [
      "5\n"
     ]
    },
    {
     "data": {
      "text/plain": [
       "6"
      ]
     },
     "execution_count": 69,
     "metadata": {},
     "output_type": "execute_result"
    }
   ],
   "source": [
    "add_ints(2,3)"
   ]
  },
  {
   "cell_type": "markdown",
   "metadata": {},
   "source": [
    "# Q3"
   ]
  },
  {
   "cell_type": "code",
   "execution_count": null,
   "metadata": {},
   "outputs": [
    {
     "name": "stdout",
     "output_type": "stream",
     "text": [
      "輸入整數H\n",
      "出錯，請重新輸入\n",
      "輸入整數R\n",
      "出錯，請重新輸入\n",
      "輸入整數1\n",
      "你輸入的是: 1\n",
      "輸入整數2\n",
      "你輸入的是: 2\n",
      "輸入整數3\n",
      "你輸入的是: 3\n",
      "輸入整數4\n",
      "你輸入的是: 4\n",
      "輸入整數6.5\n",
      "出錯，請重新輸入\n",
      "輸入整數A\n",
      "出錯，請重新輸入\n"
     ]
    }
   ],
   "source": [
    "while True:\n",
    "    a=input(\"輸入整數\")\n",
    "    \n",
    "    try:\n",
    "        num=int(a)\n",
    "        print(\"你輸入的是:\",num)\n",
    "    except:\n",
    "        print(\"出錯，請重新輸入\")"
   ]
  },
  {
   "cell_type": "markdown",
   "metadata": {},
   "source": [
    "# Q4"
   ]
  },
  {
   "cell_type": "code",
   "execution_count": null,
   "metadata": {},
   "outputs": [],
   "source": []
  }
 ],
 "metadata": {
  "kernelspec": {
   "display_name": "Python 3",
   "language": "python",
   "name": "python3"
  },
  "language_info": {
   "codemirror_mode": {
    "name": "ipython",
    "version": 3
   },
   "file_extension": ".py",
   "mimetype": "text/x-python",
   "name": "python",
   "nbconvert_exporter": "python",
   "pygments_lexer": "ipython3",
   "version": "3.6.4"
  }
 },
 "nbformat": 4,
 "nbformat_minor": 2
}
