{
 "cells": [
  {
   "cell_type": "code",
   "execution_count": null,
   "metadata": {},
   "outputs": [],
   "source": [
    "def calculator(operator,*args):\n",
    "    x1 = 0\n",
    "    x2 = 0\n",
    "    \n",
    "    for i in args:\n",
    "        if x1 == 0:\n",
    "            x1 = i\n",
    "        else:\n",
    "            x2 = i\n",
    "\n",
    "    if(operator == \"+\"):\n",
    "        print(x1,\"+\",x2,\"=\",(x1+x2))\n",
    "    elif(operator == \"-\"):\n",
    "        print(x1,\"-\",x2,\"=\",(x1-x2))\n",
    "    elif(operator == \"*\"):\n",
    "        print(x1,\"x\",x2,\"=\",(x1*x2))\n",
    "    elif(operator == \"/\"):\n",
    "        print(x1,\"÷\",x2,\"=\",(x1/x2))"
   ]
  }
 ],
 "metadata": {
  "kernelspec": {
   "display_name": "Python 3",
   "language": "python",
   "name": "python3"
  },
  "language_info": {
   "codemirror_mode": {
    "name": "ipython",
    "version": 3
   },
   "file_extension": ".py",
   "mimetype": "text/x-python",
   "name": "python",
   "nbconvert_exporter": "python",
   "pygments_lexer": "ipython3",
   "version": "3.6.4"
  }
 },
 "nbformat": 4,
 "nbformat_minor": 2
}
